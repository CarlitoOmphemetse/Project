{
  "cells": [
    {
      "metadata": {},
      "cell_type": "markdown",
      "source": "# You might want to upgrade your pip and install pandas_datareader if not yet installed"
    },
    {
      "metadata": {
        "trusted": true
      },
      "cell_type": "code",
      "source": "#!pip install --upgrade pip",
      "execution_count": null,
      "outputs": []
    },
    {
      "metadata": {
        "trusted": true
      },
      "cell_type": "code",
      "source": "\n#!pip install pandas_datareader",
      "execution_count": 1,
      "outputs": []
    },
    {
      "metadata": {},
      "cell_type": "markdown",
      "source": "# Required Libraries "
    },
    {
      "metadata": {
        "trusted": true
      },
      "cell_type": "code",
      "source": "import bs4 as bs\nimport datetime as dt\nimport os\nimport pandas_datareader.data as web\nimport pickle\nimport requests\nimport pandas as pd",
      "execution_count": 10,
      "outputs": []
    },
    {
      "metadata": {},
      "cell_type": "markdown",
      "source": "# Function for saving tickers(increase and decrease of stocks)"
    },
    {
      "metadata": {
        "trusted": true
      },
      "cell_type": "code",
      "source": "\ndef save_sp500_tickers():\n    resp = requests.get('http://en.wikipedia.org/wiki/List_of_S%26P_500_companies')\n    soup = bs.BeautifulSoup(resp.text, 'lxml')\n    table = soup.find('table', {'class': 'wikitable sortable'})\n    tickers = []\n    for row in table.findAll('tr')[1:]:\n        ticker = row.findAll('td')[0].text.replace('.','-')\n        ticker = ticker[:-1]\n        tickers.append(ticker)\n    with open(\"sp500tickers.pickle\", \"wb\") as f:\n        pickle.dump(tickers, f)\n    return tickers",
      "execution_count": 11,
      "outputs": []
    },
    {
      "metadata": {},
      "cell_type": "markdown",
      "source": "# Function for fetching stock data from yahoo "
    },
    {
      "metadata": {
        "trusted": true
      },
      "cell_type": "code",
      "source": "# save_sp500_tickers()\ndef get_data_from_yahoo(reload_sp500=False):\n    if reload_sp500:\n        tickers = save_sp500_tickers()\n    else:\n        with open(\"sp500tickers.pickle\", \"rb\") as f:\n            tickers = pickle.load(f)\n    if not os.path.exists('stock_dfs'):\n        os.makedirs('stock_dfs')\n    start = dt.datetime(2019, 6, 8)\n    end = dt.datetime.now()\n    for ticker in tickers:\n        print(ticker)\n        if not os.path.exists('stock_dfs/{}.csv'.format(ticker)):\n            df = web.DataReader(ticker, 'yahoo', start, end)\n            df.reset_index(inplace=True)\n            df.set_index(\"Date\", inplace=True)\n            df.to_csv('stock_dfs/{}.csv'.format(ticker))\n        else:\n            print('Already have {}'.format(ticker))\nsave_sp500_tickers()\nget_data_from_yahoo()",
      "execution_count": null,
      "outputs": []
    },
    {
      "metadata": {},
      "cell_type": "markdown",
      "source": "# Function for structuring the data into a suitable format in preparation for storage"
    },
    {
      "metadata": {
        "trusted": true
      },
      "cell_type": "code",
      "source": "def compile_data():\n    with open(\"sp500tickers.pickle\",\"rb\") as f:\n        tickers = pickle.load(f)\n    \n    \n    main_df = pd.DataFrame()\n  \n    for count, ticker in enumerate(tickers):\n        df = pd.read_csv('stock_dfs/{}.csv'.format(ticker))\n        df.set_index('Date', inplace = True)\n    \n        df.rename(columns = {'Adj Close':ticker}, inplace=True)\n        df.drop(['Open','High','Low','Close','Volume'], 1, inplace =True)\n    \n    if main_df.empty:\n        main_df = df\n      \n    else:\n        main_df = main_df.join(df, how = 'outer')\n      \n      \n    if count % 10 == 0:\n        print(count)\n      \n      \n    print(main_df.head())\n    main_df.to_csv('sp500_joined_closes.csv')",
      "execution_count": 13,
      "outputs": []
    },
    {
      "metadata": {
        "trusted": true
      },
      "cell_type": "code",
      "source": "compile_data() #It will compile the data into a suitable format for analysis",
      "execution_count": null,
      "outputs": []
    }
  ],
  "metadata": {
    "kernelspec": {
      "name": "python36",
      "display_name": "Python 3.6",
      "language": "python"
    },
    "language_info": {
      "mimetype": "text/x-python",
      "nbconvert_exporter": "python",
      "name": "python",
      "pygments_lexer": "ipython3",
      "version": "3.6.6",
      "file_extension": ".py",
      "codemirror_mode": {
        "version": 3,
        "name": "ipython"
      }
    }
  },
  "nbformat": 4,
  "nbformat_minor": 2
}