{
  "cells": [
    {
      "metadata": {
        "trusted": true
      },
      "cell_type": "code",
      "source": "import pandas as pd\nimport datetime \nfrom datetime import datetime\n\n\ndata = pd.read_csv(\"sp500_joined_closes.csv\")\ndata.head(2)",
      "execution_count": 11,
      "outputs": [
        {
          "output_type": "execute_result",
          "execution_count": 11,
          "data": {
            "text/html": "<div>\n<style scoped>\n    .dataframe tbody tr th:only-of-type {\n        vertical-align: middle;\n    }\n\n    .dataframe tbody tr th {\n        vertical-align: top;\n    }\n\n    .dataframe thead th {\n        text-align: right;\n    }\n</style>\n<table border=\"1\" class=\"dataframe\">\n  <thead>\n    <tr style=\"text-align: right;\">\n      <th></th>\n      <th>Date</th>\n      <th>ZTS</th>\n    </tr>\n  </thead>\n  <tbody>\n    <tr>\n      <th>0</th>\n      <td>2019-06-10</td>\n      <td>110.060989</td>\n    </tr>\n    <tr>\n      <th>1</th>\n      <td>2019-06-11</td>\n      <td>110.001076</td>\n    </tr>\n  </tbody>\n</table>\n</div>",
            "text/plain": "         Date         ZTS\n0  2019-06-10  110.060989\n1  2019-06-11  110.001076"
          },
          "metadata": {}
        }
      ]
    },
    {
      "metadata": {
        "trusted": true
      },
      "cell_type": "code",
      "source": "data",
      "execution_count": 20,
      "outputs": [
        {
          "output_type": "execute_result",
          "execution_count": 20,
          "data": {
            "text/html": "<div>\n<style scoped>\n    .dataframe tbody tr th:only-of-type {\n        vertical-align: middle;\n    }\n\n    .dataframe tbody tr th {\n        vertical-align: top;\n    }\n\n    .dataframe thead th {\n        text-align: right;\n    }\n</style>\n<table border=\"1\" class=\"dataframe\">\n  <thead>\n    <tr style=\"text-align: right;\">\n      <th></th>\n      <th>Date</th>\n      <th>ZTS</th>\n    </tr>\n  </thead>\n  <tbody>\n    <tr>\n      <th>0</th>\n      <td>2019-06-10</td>\n      <td>110.060989</td>\n    </tr>\n    <tr>\n      <th>1</th>\n      <td>2019-06-11</td>\n      <td>110.001076</td>\n    </tr>\n    <tr>\n      <th>2</th>\n      <td>2019-06-12</td>\n      <td>111.279228</td>\n    </tr>\n    <tr>\n      <th>3</th>\n      <td>2019-06-13</td>\n      <td>109.871262</td>\n    </tr>\n    <tr>\n      <th>4</th>\n      <td>2019-06-14</td>\n      <td>110.630165</td>\n    </tr>\n    <tr>\n      <th>5</th>\n      <td>2019-06-17</td>\n      <td>110.650139</td>\n    </tr>\n    <tr>\n      <th>6</th>\n      <td>2019-06-18</td>\n      <td>113.216431</td>\n    </tr>\n    <tr>\n      <th>7</th>\n      <td>2019-06-19</td>\n      <td>114.115128</td>\n    </tr>\n    <tr>\n      <th>8</th>\n      <td>2019-06-20</td>\n      <td>112.807022</td>\n    </tr>\n    <tr>\n      <th>9</th>\n      <td>2019-06-21</td>\n      <td>112.717148</td>\n    </tr>\n    <tr>\n      <th>10</th>\n      <td>2019-06-24</td>\n      <td>113.306305</td>\n    </tr>\n    <tr>\n      <th>11</th>\n      <td>2019-06-25</td>\n      <td>113.695740</td>\n    </tr>\n    <tr>\n      <th>12</th>\n      <td>2019-06-26</td>\n      <td>112.886909</td>\n    </tr>\n    <tr>\n      <th>13</th>\n      <td>2019-06-27</td>\n      <td>112.597328</td>\n    </tr>\n    <tr>\n      <th>14</th>\n      <td>2019-06-28</td>\n      <td>113.326271</td>\n    </tr>\n    <tr>\n      <th>15</th>\n      <td>2019-07-01</td>\n      <td>113.406158</td>\n    </tr>\n    <tr>\n      <th>16</th>\n      <td>2019-07-02</td>\n      <td>114.424683</td>\n    </tr>\n    <tr>\n      <th>17</th>\n      <td>2019-07-03</td>\n      <td>115.173599</td>\n    </tr>\n    <tr>\n      <th>18</th>\n      <td>2019-07-05</td>\n      <td>114.015274</td>\n    </tr>\n    <tr>\n      <th>19</th>\n      <td>2019-07-08</td>\n      <td>113.935387</td>\n    </tr>\n    <tr>\n      <th>20</th>\n      <td>2019-07-09</td>\n      <td>113.096603</td>\n    </tr>\n    <tr>\n      <th>21</th>\n      <td>2019-07-10</td>\n      <td>114.404716</td>\n    </tr>\n    <tr>\n      <th>22</th>\n      <td>2019-07-11</td>\n      <td>114.185028</td>\n    </tr>\n    <tr>\n      <th>23</th>\n      <td>2019-07-12</td>\n      <td>113.146530</td>\n    </tr>\n    <tr>\n      <th>24</th>\n      <td>2019-07-15</td>\n      <td>113.406158</td>\n    </tr>\n    <tr>\n      <th>25</th>\n      <td>2019-07-16</td>\n      <td>113.316292</td>\n    </tr>\n    <tr>\n      <th>26</th>\n      <td>2019-07-17</td>\n      <td>113.515999</td>\n    </tr>\n    <tr>\n      <th>27</th>\n      <td>2019-07-18</td>\n      <td>114.940002</td>\n    </tr>\n    <tr>\n      <th>28</th>\n      <td>2019-07-19</td>\n      <td>114.089996</td>\n    </tr>\n    <tr>\n      <th>29</th>\n      <td>2019-07-22</td>\n      <td>115.940002</td>\n    </tr>\n    <tr>\n      <th>...</th>\n      <td>...</td>\n      <td>...</td>\n    </tr>\n    <tr>\n      <th>44</th>\n      <td>2019-08-12</td>\n      <td>123.959999</td>\n    </tr>\n    <tr>\n      <th>45</th>\n      <td>2019-08-13</td>\n      <td>124.699997</td>\n    </tr>\n    <tr>\n      <th>46</th>\n      <td>2019-08-14</td>\n      <td>121.790001</td>\n    </tr>\n    <tr>\n      <th>47</th>\n      <td>2019-08-15</td>\n      <td>123.680000</td>\n    </tr>\n    <tr>\n      <th>48</th>\n      <td>2019-08-16</td>\n      <td>125.370003</td>\n    </tr>\n    <tr>\n      <th>49</th>\n      <td>2019-08-19</td>\n      <td>126.750000</td>\n    </tr>\n    <tr>\n      <th>50</th>\n      <td>2019-08-20</td>\n      <td>126.050003</td>\n    </tr>\n    <tr>\n      <th>51</th>\n      <td>2019-08-21</td>\n      <td>127.639999</td>\n    </tr>\n    <tr>\n      <th>52</th>\n      <td>2019-08-22</td>\n      <td>126.639999</td>\n    </tr>\n    <tr>\n      <th>53</th>\n      <td>2019-08-23</td>\n      <td>123.070000</td>\n    </tr>\n    <tr>\n      <th>54</th>\n      <td>2019-08-26</td>\n      <td>126.199997</td>\n    </tr>\n    <tr>\n      <th>55</th>\n      <td>2019-08-27</td>\n      <td>125.239998</td>\n    </tr>\n    <tr>\n      <th>56</th>\n      <td>2019-08-28</td>\n      <td>125.769997</td>\n    </tr>\n    <tr>\n      <th>57</th>\n      <td>2019-08-29</td>\n      <td>126.680000</td>\n    </tr>\n    <tr>\n      <th>58</th>\n      <td>2019-08-30</td>\n      <td>126.419998</td>\n    </tr>\n    <tr>\n      <th>59</th>\n      <td>2019-09-03</td>\n      <td>127.040001</td>\n    </tr>\n    <tr>\n      <th>60</th>\n      <td>2019-09-04</td>\n      <td>127.589996</td>\n    </tr>\n    <tr>\n      <th>61</th>\n      <td>2019-09-05</td>\n      <td>128.070007</td>\n    </tr>\n    <tr>\n      <th>62</th>\n      <td>2019-09-06</td>\n      <td>128.429993</td>\n    </tr>\n    <tr>\n      <th>63</th>\n      <td>2019-09-09</td>\n      <td>126.660004</td>\n    </tr>\n    <tr>\n      <th>64</th>\n      <td>2019-09-10</td>\n      <td>123.029999</td>\n    </tr>\n    <tr>\n      <th>65</th>\n      <td>2019-09-11</td>\n      <td>120.699997</td>\n    </tr>\n    <tr>\n      <th>66</th>\n      <td>2019-09-12</td>\n      <td>121.690002</td>\n    </tr>\n    <tr>\n      <th>67</th>\n      <td>2019-09-13</td>\n      <td>121.019997</td>\n    </tr>\n    <tr>\n      <th>68</th>\n      <td>2019-09-16</td>\n      <td>119.639999</td>\n    </tr>\n    <tr>\n      <th>69</th>\n      <td>2019-09-17</td>\n      <td>122.419998</td>\n    </tr>\n    <tr>\n      <th>70</th>\n      <td>2019-09-18</td>\n      <td>123.239998</td>\n    </tr>\n    <tr>\n      <th>71</th>\n      <td>2019-09-19</td>\n      <td>124.269997</td>\n    </tr>\n    <tr>\n      <th>72</th>\n      <td>2019-09-20</td>\n      <td>125.620003</td>\n    </tr>\n    <tr>\n      <th>73</th>\n      <td>2019-09-23</td>\n      <td>125.559998</td>\n    </tr>\n  </tbody>\n</table>\n<p>74 rows × 2 columns</p>\n</div>",
            "text/plain": "          Date         ZTS\n0   2019-06-10  110.060989\n1   2019-06-11  110.001076\n2   2019-06-12  111.279228\n3   2019-06-13  109.871262\n4   2019-06-14  110.630165\n5   2019-06-17  110.650139\n6   2019-06-18  113.216431\n7   2019-06-19  114.115128\n8   2019-06-20  112.807022\n9   2019-06-21  112.717148\n10  2019-06-24  113.306305\n11  2019-06-25  113.695740\n12  2019-06-26  112.886909\n13  2019-06-27  112.597328\n14  2019-06-28  113.326271\n15  2019-07-01  113.406158\n16  2019-07-02  114.424683\n17  2019-07-03  115.173599\n18  2019-07-05  114.015274\n19  2019-07-08  113.935387\n20  2019-07-09  113.096603\n21  2019-07-10  114.404716\n22  2019-07-11  114.185028\n23  2019-07-12  113.146530\n24  2019-07-15  113.406158\n25  2019-07-16  113.316292\n26  2019-07-17  113.515999\n27  2019-07-18  114.940002\n28  2019-07-19  114.089996\n29  2019-07-22  115.940002\n..         ...         ...\n44  2019-08-12  123.959999\n45  2019-08-13  124.699997\n46  2019-08-14  121.790001\n47  2019-08-15  123.680000\n48  2019-08-16  125.370003\n49  2019-08-19  126.750000\n50  2019-08-20  126.050003\n51  2019-08-21  127.639999\n52  2019-08-22  126.639999\n53  2019-08-23  123.070000\n54  2019-08-26  126.199997\n55  2019-08-27  125.239998\n56  2019-08-28  125.769997\n57  2019-08-29  126.680000\n58  2019-08-30  126.419998\n59  2019-09-03  127.040001\n60  2019-09-04  127.589996\n61  2019-09-05  128.070007\n62  2019-09-06  128.429993\n63  2019-09-09  126.660004\n64  2019-09-10  123.029999\n65  2019-09-11  120.699997\n66  2019-09-12  121.690002\n67  2019-09-13  121.019997\n68  2019-09-16  119.639999\n69  2019-09-17  122.419998\n70  2019-09-18  123.239998\n71  2019-09-19  124.269997\n72  2019-09-20  125.620003\n73  2019-09-23  125.559998\n\n[74 rows x 2 columns]"
          },
          "metadata": {}
        }
      ]
    },
    {
      "metadata": {
        "trusted": true
      },
      "cell_type": "code",
      "source": "dataset = data.dropna(axis='columns')",
      "execution_count": 12,
      "outputs": []
    },
    {
      "metadata": {
        "trusted": true
      },
      "cell_type": "code",
      "source": "dataset.shape",
      "execution_count": 13,
      "outputs": [
        {
          "output_type": "execute_result",
          "execution_count": 13,
          "data": {
            "text/plain": "(74, 2)"
          },
          "metadata": {}
        }
      ]
    },
    {
      "metadata": {
        "trusted": true
      },
      "cell_type": "code",
      "source": "dataset.head()",
      "execution_count": 14,
      "outputs": [
        {
          "output_type": "execute_result",
          "execution_count": 14,
          "data": {
            "text/html": "<div>\n<style scoped>\n    .dataframe tbody tr th:only-of-type {\n        vertical-align: middle;\n    }\n\n    .dataframe tbody tr th {\n        vertical-align: top;\n    }\n\n    .dataframe thead th {\n        text-align: right;\n    }\n</style>\n<table border=\"1\" class=\"dataframe\">\n  <thead>\n    <tr style=\"text-align: right;\">\n      <th></th>\n      <th>Date</th>\n      <th>ZTS</th>\n    </tr>\n  </thead>\n  <tbody>\n    <tr>\n      <th>0</th>\n      <td>2019-06-10</td>\n      <td>110.060989</td>\n    </tr>\n    <tr>\n      <th>1</th>\n      <td>2019-06-11</td>\n      <td>110.001076</td>\n    </tr>\n    <tr>\n      <th>2</th>\n      <td>2019-06-12</td>\n      <td>111.279228</td>\n    </tr>\n    <tr>\n      <th>3</th>\n      <td>2019-06-13</td>\n      <td>109.871262</td>\n    </tr>\n    <tr>\n      <th>4</th>\n      <td>2019-06-14</td>\n      <td>110.630165</td>\n    </tr>\n  </tbody>\n</table>\n</div>",
            "text/plain": "         Date         ZTS\n0  2019-06-10  110.060989\n1  2019-06-11  110.001076\n2  2019-06-12  111.279228\n3  2019-06-13  109.871262\n4  2019-06-14  110.630165"
          },
          "metadata": {}
        }
      ]
    },
    {
      "metadata": {
        "trusted": true
      },
      "cell_type": "code",
      "source": "dataset['Date'] = pd.to_datetime(dataset['Date'], infer_datetime_format=True)",
      "execution_count": 15,
      "outputs": []
    },
    {
      "metadata": {
        "trusted": true
      },
      "cell_type": "code",
      "source": "dataset.head()",
      "execution_count": 16,
      "outputs": [
        {
          "output_type": "execute_result",
          "execution_count": 16,
          "data": {
            "text/html": "<div>\n<style scoped>\n    .dataframe tbody tr th:only-of-type {\n        vertical-align: middle;\n    }\n\n    .dataframe tbody tr th {\n        vertical-align: top;\n    }\n\n    .dataframe thead th {\n        text-align: right;\n    }\n</style>\n<table border=\"1\" class=\"dataframe\">\n  <thead>\n    <tr style=\"text-align: right;\">\n      <th></th>\n      <th>Date</th>\n      <th>ZTS</th>\n    </tr>\n  </thead>\n  <tbody>\n    <tr>\n      <th>0</th>\n      <td>2019-06-10</td>\n      <td>110.060989</td>\n    </tr>\n    <tr>\n      <th>1</th>\n      <td>2019-06-11</td>\n      <td>110.001076</td>\n    </tr>\n    <tr>\n      <th>2</th>\n      <td>2019-06-12</td>\n      <td>111.279228</td>\n    </tr>\n    <tr>\n      <th>3</th>\n      <td>2019-06-13</td>\n      <td>109.871262</td>\n    </tr>\n    <tr>\n      <th>4</th>\n      <td>2019-06-14</td>\n      <td>110.630165</td>\n    </tr>\n  </tbody>\n</table>\n</div>",
            "text/plain": "        Date         ZTS\n0 2019-06-10  110.060989\n1 2019-06-11  110.001076\n2 2019-06-12  111.279228\n3 2019-06-13  109.871262\n4 2019-06-14  110.630165"
          },
          "metadata": {}
        }
      ]
    },
    {
      "metadata": {
        "trusted": true
      },
      "cell_type": "code",
      "source": "dataset['day'] = (dataset['Date']).dt.day\ndataset['month'] = (dataset['Date']).dt.month\ndataset['year'] = (dataset['Date']).dt.year\ndataset['hour'] = (dataset[\"Date\"]).dt.hour",
      "execution_count": 17,
      "outputs": []
    },
    {
      "metadata": {
        "trusted": true
      },
      "cell_type": "code",
      "source": "dataset.tail()",
      "execution_count": 18,
      "outputs": [
        {
          "output_type": "execute_result",
          "execution_count": 18,
          "data": {
            "text/html": "<div>\n<style scoped>\n    .dataframe tbody tr th:only-of-type {\n        vertical-align: middle;\n    }\n\n    .dataframe tbody tr th {\n        vertical-align: top;\n    }\n\n    .dataframe thead th {\n        text-align: right;\n    }\n</style>\n<table border=\"1\" class=\"dataframe\">\n  <thead>\n    <tr style=\"text-align: right;\">\n      <th></th>\n      <th>Date</th>\n      <th>ZTS</th>\n      <th>day</th>\n      <th>month</th>\n      <th>year</th>\n      <th>hour</th>\n    </tr>\n  </thead>\n  <tbody>\n    <tr>\n      <th>69</th>\n      <td>2019-09-17</td>\n      <td>122.419998</td>\n      <td>17</td>\n      <td>9</td>\n      <td>2019</td>\n      <td>0</td>\n    </tr>\n    <tr>\n      <th>70</th>\n      <td>2019-09-18</td>\n      <td>123.239998</td>\n      <td>18</td>\n      <td>9</td>\n      <td>2019</td>\n      <td>0</td>\n    </tr>\n    <tr>\n      <th>71</th>\n      <td>2019-09-19</td>\n      <td>124.269997</td>\n      <td>19</td>\n      <td>9</td>\n      <td>2019</td>\n      <td>0</td>\n    </tr>\n    <tr>\n      <th>72</th>\n      <td>2019-09-20</td>\n      <td>125.620003</td>\n      <td>20</td>\n      <td>9</td>\n      <td>2019</td>\n      <td>0</td>\n    </tr>\n    <tr>\n      <th>73</th>\n      <td>2019-09-23</td>\n      <td>125.559998</td>\n      <td>23</td>\n      <td>9</td>\n      <td>2019</td>\n      <td>0</td>\n    </tr>\n  </tbody>\n</table>\n</div>",
            "text/plain": "         Date         ZTS  day  month  year  hour\n69 2019-09-17  122.419998   17      9  2019     0\n70 2019-09-18  123.239998   18      9  2019     0\n71 2019-09-19  124.269997   19      9  2019     0\n72 2019-09-20  125.620003   20      9  2019     0\n73 2019-09-23  125.559998   23      9  2019     0"
          },
          "metadata": {}
        }
      ]
    },
    {
      "metadata": {
        "trusted": true
      },
      "cell_type": "code",
      "source": "dataset.to_csv(\"stock_data.csv\")",
      "execution_count": 19,
      "outputs": []
    },
    {
      "metadata": {
        "trusted": true
      },
      "cell_type": "code",
      "source": "",
      "execution_count": null,
      "outputs": []
    }
  ],
  "metadata": {
    "kernelspec": {
      "name": "python36",
      "display_name": "Python 3.6",
      "language": "python"
    },
    "language_info": {
      "mimetype": "text/x-python",
      "nbconvert_exporter": "python",
      "name": "python",
      "pygments_lexer": "ipython3",
      "version": "3.6.6",
      "file_extension": ".py",
      "codemirror_mode": {
        "version": 3,
        "name": "ipython"
      }
    }
  },
  "nbformat": 4,
  "nbformat_minor": 2
}